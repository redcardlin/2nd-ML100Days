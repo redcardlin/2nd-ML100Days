{
 "cells": [
  {
   "cell_type": "markdown",
   "metadata": {},
   "source": [
    "## [作業重點]\n",
    "清楚了解 L1, L2 的意義與差異為何，並了解 LASSO 與 Ridge 之間的差異與使用情境"
   ]
  },
  {
   "cell_type": "markdown",
   "metadata": {},
   "source": [
    "## 作業"
   ]
  },
  {
   "cell_type": "markdown",
   "metadata": {},
   "source": [
    "請閱讀相關文獻，並回答下列問題\n",
    "\n",
    "[脊回歸 (Ridge Regression)](https://blog.csdn.net/daunxx/article/details/51578787)\n",
    "[Linear, Ridge, Lasso Regression 本質區別](https://www.zhihu.com/question/38121173)\n",
    "\n",
    "1. LASSO 回歸可以被用來作為 Feature selection 的工具，請了解 LASSO 模型為什麼可用來作 Feature selection\n",
    "2. 當自變數 (X) 存在高度共線性時，Ridge Regression 可以處理這樣的問題嗎?\n"
   ]
  },
  {
   "cell_type": "markdown",
   "metadata": {},
   "source": [
    "ANS1：\n",
    "\n",
    "    Lasso的全名為Least absolute shrinkage and selection operator( Tibshirani, 1996)。\n",
    "    是Ridge模型外的另一個選擇，並在目標函式的限制式有所調整。\n",
    "    有別於二階懲罰(L2 Penalty)，Lasso模型在目標函式中所使用的是一階懲罰式(L1 Penalty)λ∑pj=1|βj|。\n",
    "    不像Ridge模型只會將係數逼近到接近零（但不會真的是0），Lasso模型則真的會將係數推進成0。\n",
    "    因此，Lasso模型不僅能使用正規化(regulariztion)來優化模型，亦可以自動執行變數篩選(Feature selection)。"
   ]
  },
  {
   "cell_type": "markdown",
   "metadata": {},
   "source": [
    "ANS2:\n",
    "    \n",
    "    Ridge Regression透過將懲罰參數λ∑pj=1β2j加入目標函式中。也因為該參數為對係數做出二階懲罰，故又稱為L2 Penalty懲罰參數。\n",
    "    L2懲罰參數的值可以透過「tuninig parameter, λ」來控制。\n",
    "    當λ→0，L2懲罰參數就跟OLS回歸一樣，目標函式只有最小化SSE；而當λ→∞時，懲罰效果最大，迫使所有係數都趨近於0。\n",
    "    部分特徵係數會波動，直到log(λ)≃0才逐漸穩定開始收斂至0。\n",
    "    這表示存在多重共線性，唯有透過log(λ)>0校正參數來限制係數，以降低模型變異和誤差。\n",
    "    \n",
    "    優點\n",
    "    1.實質上，Ridge模型會將具有相關性的變數推向彼此，並避免使得其中一個有極大正係數另一個有極大負係數的情況。\n",
    "    2.此外，許多不相干的變數係數會被逼近為0(不會等於0)。表示我們可以降低資料集中的雜訊，幫助我們更清楚的識別出模型中真正的訊號(signals)。\n",
    "    \n",
    "    缺點\n",
    "    1.然而，Ridge模型會保留所有變數。假如你覺得需要保留所有變數並將較無影響力的變數雜訊給減弱並最小化共線性，則模型是好的。\n",
    "    2.Ridge模型不具有變數挑選(feature selection)功能。假如需要更近一步減少資料中的訊號(signals)並尋找subset來解釋，則Lasso模型會更適合。"
   ]
  },
  {
   "cell_type": "code",
   "execution_count": null,
   "metadata": {},
   "outputs": [],
   "source": []
  },
  {
   "cell_type": "code",
   "execution_count": null,
   "metadata": {},
   "outputs": [],
   "source": []
  }
 ],
 "metadata": {
  "kernelspec": {
   "display_name": "Python 3",
   "language": "python",
   "name": "python3"
  },
  "language_info": {
   "codemirror_mode": {
    "name": "ipython",
    "version": 3
   },
   "file_extension": ".py",
   "mimetype": "text/x-python",
   "name": "python",
   "nbconvert_exporter": "python",
   "pygments_lexer": "ipython3",
   "version": "3.7.1"
  }
 },
 "nbformat": 4,
 "nbformat_minor": 2
}
